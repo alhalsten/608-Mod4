{
 "cells": [
  {
   "cell_type": "code",
   "execution_count": 83,
   "id": "05aad6e1-89aa-4f4e-9f71-322de5a6dac2",
   "metadata": {},
   "outputs": [
    {
     "data": {
      "text/plain": [
       "{'Finland': 'fi', 'South Africa': 'za', 'Nepal': 'np'}"
      ]
     },
     "execution_count": 83,
     "metadata": {},
     "output_type": "execute_result"
    }
   ],
   "source": [
    "country_codes = {'Finland': 'fi', 'South Africa': 'za', 'Nepal': 'np'}\n",
    "country_codes"
   ]
  },
  {
   "cell_type": "code",
   "execution_count": 84,
   "id": "8e093788-2d18-4629-9f9b-ea24904c0e62",
   "metadata": {},
   "outputs": [
    {
     "data": {
      "text/plain": [
       "3"
      ]
     },
     "execution_count": 84,
     "metadata": {},
     "output_type": "execute_result"
    }
   ],
   "source": [
    "len(country_codes)"
   ]
  },
  {
   "cell_type": "code",
   "execution_count": 85,
   "id": "6f211289-7045-4bd4-a412-a9f75c453c8a",
   "metadata": {},
   "outputs": [
    {
     "name": "stdout",
     "output_type": "stream",
     "text": [
      "country_codes is not empty\n"
     ]
    }
   ],
   "source": [
    "if country_codes:\n",
    "    print('country_codes is not empty')\n",
    "else:\n",
    "    print('country_codes is empty')"
   ]
  },
  {
   "cell_type": "code",
   "execution_count": 86,
   "id": "0a5f16cb-5dd2-40fe-b85d-d3d90b8c7b11",
   "metadata": {},
   "outputs": [
    {
     "name": "stdout",
     "output_type": "stream",
     "text": [
      "country_codes is empty\n"
     ]
    }
   ],
   "source": [
    "country_codes.clear()\n",
    "if country_codes:\n",
    "    print('country_codes is not empty')\n",
    "else:\n",
    "    print('country_codes is empty')"
   ]
  },
  {
   "cell_type": "code",
   "execution_count": 87,
   "id": "95248442-6247-4a5a-99e9-9a329184451f",
   "metadata": {},
   "outputs": [
    {
     "data": {
      "text/plain": [
       "{'VT': 'Vermont', 'NH': 'New Hampshire', 'MA': 'Massachusetts'}"
      ]
     },
     "execution_count": 87,
     "metadata": {},
     "output_type": "execute_result"
    }
   ],
   "source": [
    "states = {'VT': 'Vermont', 'NH': 'New Hampshire', 'MA': 'Massachusetts'}\n",
    "\n",
    "states"
   ]
  },
  {
   "cell_type": "code",
   "execution_count": 88,
   "id": "8e40e01d-fca8-4c27-9b00-a082d36273e5",
   "metadata": {},
   "outputs": [
    {
     "data": {
      "text/plain": [
       "{'January': 31, 'February': 28, 'March': 31}"
      ]
     },
     "execution_count": 88,
     "metadata": {},
     "output_type": "execute_result"
    }
   ],
   "source": [
    "days_per_month = {'January': 31, 'February': 28, 'March': 31}\n",
    "\n",
    "days_per_month"
   ]
  },
  {
   "cell_type": "code",
   "execution_count": 89,
   "id": "64a5f7dc-4c88-42a1-90d3-b1c9d6405d0f",
   "metadata": {},
   "outputs": [
    {
     "name": "stdout",
     "output_type": "stream",
     "text": [
      "January has 31 days\n",
      "February has 28 days\n",
      "March has 31 days\n"
     ]
    }
   ],
   "source": [
    "for month, days in days_per_month.items():\n",
    "    print(f'{month} has {days} days')"
   ]
  },
  {
   "cell_type": "code",
   "execution_count": 90,
   "id": "950dda5c-e259-4ca9-92a5-e2568f36e878",
   "metadata": {},
   "outputs": [
    {
     "data": {
      "text/plain": [
       "{'I': 1, 'II': 2, 'III': 3, 'V': 5, 'X': 100}"
      ]
     },
     "execution_count": 90,
     "metadata": {},
     "output_type": "execute_result"
    }
   ],
   "source": [
    "roman_numerals = {'I': 1, 'II': 2, 'III': 3, 'V': 5, 'X': 100}\n",
    "roman_numerals"
   ]
  },
  {
   "cell_type": "code",
   "execution_count": 91,
   "id": "ed783b5d-f3b4-429a-ae28-9dafbdf93b56",
   "metadata": {},
   "outputs": [
    {
     "data": {
      "text/plain": [
       "5"
      ]
     },
     "execution_count": 91,
     "metadata": {},
     "output_type": "execute_result"
    }
   ],
   "source": [
    "roman_numerals['V']"
   ]
  },
  {
   "cell_type": "code",
   "execution_count": 92,
   "id": "ccbd4983-82ca-4c8c-a77f-76a7551f4017",
   "metadata": {},
   "outputs": [
    {
     "data": {
      "text/plain": [
       "{'I': 1, 'II': 2, 'III': 3, 'V': 5, 'X': 10}"
      ]
     },
     "execution_count": 92,
     "metadata": {},
     "output_type": "execute_result"
    }
   ],
   "source": [
    "roman_numerals['X'] = 10\n",
    "roman_numerals"
   ]
  },
  {
   "cell_type": "code",
   "execution_count": 93,
   "id": "2f5c4ab7-0ff4-41b0-a82e-73abb0b7ece8",
   "metadata": {},
   "outputs": [
    {
     "data": {
      "text/plain": [
       "{'I': 1, 'II': 2, 'III': 3, 'V': 5, 'X': 10, 'L': 50}"
      ]
     },
     "execution_count": 93,
     "metadata": {},
     "output_type": "execute_result"
    }
   ],
   "source": [
    "roman_numerals['L'] = 50\n",
    "roman_numerals"
   ]
  },
  {
   "cell_type": "code",
   "execution_count": 94,
   "id": "af20b40e-8997-4c34-99fc-bb450adec14a",
   "metadata": {},
   "outputs": [
    {
     "data": {
      "text/plain": [
       "{'I': 1, 'II': 2, 'V': 5, 'X': 10, 'L': 50}"
      ]
     },
     "execution_count": 94,
     "metadata": {},
     "output_type": "execute_result"
    }
   ],
   "source": [
    "del roman_numerals['III']\n",
    "roman_numerals"
   ]
  },
  {
   "cell_type": "code",
   "execution_count": 95,
   "id": "8141c4d2-14f4-4d8d-aee8-d55f72fdfd5c",
   "metadata": {},
   "outputs": [
    {
     "data": {
      "text/plain": [
       "10"
      ]
     },
     "execution_count": 95,
     "metadata": {},
     "output_type": "execute_result"
    }
   ],
   "source": [
    "roman_numerals.pop('X')"
   ]
  },
  {
   "cell_type": "code",
   "execution_count": 96,
   "id": "2cfc7190-1a59-4a7f-addb-44aaff1e7bab",
   "metadata": {},
   "outputs": [
    {
     "data": {
      "text/plain": [
       "{'I': 1, 'II': 2, 'V': 5, 'L': 50}"
      ]
     },
     "execution_count": 96,
     "metadata": {},
     "output_type": "execute_result"
    }
   ],
   "source": [
    "roman_numerals"
   ]
  },
  {
   "cell_type": "code",
   "execution_count": 97,
   "id": "234cc263-13e9-4538-b9b0-c0bfba20185b",
   "metadata": {},
   "outputs": [
    {
     "ename": "KeyError",
     "evalue": "'III'",
     "output_type": "error",
     "traceback": [
      "\u001b[1;31m---------------------------------------------------------------------------\u001b[0m",
      "\u001b[1;31mKeyError\u001b[0m                                  Traceback (most recent call last)",
      "Input \u001b[1;32mIn [97]\u001b[0m, in \u001b[0;36m<cell line: 1>\u001b[1;34m()\u001b[0m\n\u001b[1;32m----> 1\u001b[0m \u001b[43mroman_numerals\u001b[49m\u001b[43m[\u001b[49m\u001b[38;5;124;43m'\u001b[39;49m\u001b[38;5;124;43mIII\u001b[39;49m\u001b[38;5;124;43m'\u001b[39;49m\u001b[43m]\u001b[49m\n",
      "\u001b[1;31mKeyError\u001b[0m: 'III'"
     ]
    }
   ],
   "source": [
    "roman_numerals['III']"
   ]
  },
  {
   "cell_type": "code",
   "execution_count": null,
   "id": "18a6295e-0ef9-4d4d-94d9-efec0253d64e",
   "metadata": {},
   "outputs": [],
   "source": [
    "roman_numerals.get('III')\n",
    "roman_numerals.get('III', 'III not in dictionary;P"
   ]
  },
  {
   "cell_type": "code",
   "execution_count": null,
   "id": "b69fbbed-1135-47c2-a61e-6f47ab31178c",
   "metadata": {},
   "outputs": [],
   "source": [
    "roman_numerals.get('V')"
   ]
  },
  {
   "cell_type": "code",
   "execution_count": null,
   "id": "fcb48421-248e-4d42-8a60-89e3bcaff241",
   "metadata": {},
   "outputs": [],
   "source": [
    "'V' in roman_numerals"
   ]
  },
  {
   "cell_type": "code",
   "execution_count": null,
   "id": "080b257d-56be-4416-8d25-5a73b9887ad8",
   "metadata": {},
   "outputs": [],
   "source": [
    "'III' in roman_numerals"
   ]
  },
  {
   "cell_type": "code",
   "execution_count": null,
   "id": "99f4cb2b-23c0-414f-a942-b51b9fa1b889",
   "metadata": {},
   "outputs": [],
   "source": [
    "'III' not in roman_numerals"
   ]
  },
  {
   "cell_type": "code",
   "execution_count": null,
   "id": "4e817167-f113-4bd8-a106-87cd47481a65",
   "metadata": {},
   "outputs": [],
   "source": []
  },
  {
   "cell_type": "code",
   "execution_count": null,
   "id": "7421d197-c161-4a69-a734-1cd9bae19022",
   "metadata": {},
   "outputs": [],
   "source": [
    "roman_numerals ={'i': 1, 'II': 2, 'III': 3, 'V': 5, 'X':10}\n",
    "roman_numerals['x'] = 10\n",
    "roman_numerals"
   ]
  },
  {
   "cell_type": "code",
   "execution_count": null,
   "id": "12365452-7d3e-4f85-adb5-0d2e0638019f",
   "metadata": {},
   "outputs": [],
   "source": [
    "months = {'January': 1, 'February': 2, 'March': 3}\n",
    "for month_name in months.keys():\n",
    "    print(month_name, end='  ')"
   ]
  },
  {
   "cell_type": "code",
   "execution_count": null,
   "id": "c19a2c9a-61c5-4203-bb1c-e2ff6560b7b4",
   "metadata": {},
   "outputs": [],
   "source": [
    "for month_number in months.values():\n",
    "    print(month_number, end='  ')"
   ]
  },
  {
   "cell_type": "code",
   "execution_count": null,
   "id": "05ed4369-0757-4d97-a82c-a9cdfb46948f",
   "metadata": {},
   "outputs": [],
   "source": [
    "months_view = months.keys()\n",
    "for key in months_view:\n",
    "    print(key, end='  ')"
   ]
  },
  {
   "cell_type": "code",
   "execution_count": null,
   "id": "80d40691-3133-4822-96cf-aae27f508bd6",
   "metadata": {},
   "outputs": [],
   "source": [
    "months['December'] = 12\n",
    "months"
   ]
  },
  {
   "cell_type": "code",
   "execution_count": null,
   "id": "eccb0732-7834-4947-89cf-ef72077d4b38",
   "metadata": {},
   "outputs": [],
   "source": [
    "for key in months_view:\n",
    "    print(key, end='  ')"
   ]
  },
  {
   "cell_type": "code",
   "execution_count": null,
   "id": "6e642869-2f1c-4395-8b31-324ffbdbd011",
   "metadata": {},
   "outputs": [],
   "source": [
    "list(months.keys())"
   ]
  },
  {
   "cell_type": "code",
   "execution_count": null,
   "id": "c33669f2-d04e-4124-afcf-c12b8136aaf5",
   "metadata": {},
   "outputs": [],
   "source": [
    "list(months.values())"
   ]
  },
  {
   "cell_type": "code",
   "execution_count": null,
   "id": "0f473193-3b48-4cd1-8fab-23831f57b305",
   "metadata": {},
   "outputs": [],
   "source": [
    "list(months.items())"
   ]
  },
  {
   "cell_type": "code",
   "execution_count": null,
   "id": "050da32f-6de8-4fc2-b050-c1e3fbce25cf",
   "metadata": {},
   "outputs": [],
   "source": [
    "for month_name in sorted(months.keys()):\n",
    "    print(month_name, end='  ')"
   ]
  },
  {
   "cell_type": "code",
   "execution_count": null,
   "id": "05bede8b-538c-4c60-8f59-0da651b0af58",
   "metadata": {},
   "outputs": [],
   "source": [
    "roman_numerals = {'I': 1, 'II': 2, 'III': 3, 'V': 5}\n",
    "list(roman_numerals.keys())"
   ]
  },
  {
   "cell_type": "code",
   "execution_count": null,
   "id": "277aab5e-7fd6-4c3d-8296-d89d024f61f9",
   "metadata": {},
   "outputs": [],
   "source": [
    "list(roman_numerals.values())"
   ]
  },
  {
   "cell_type": "code",
   "execution_count": null,
   "id": "abeb5218-ac3f-4743-a946-2060dd388639",
   "metadata": {},
   "outputs": [],
   "source": [
    "list(roman_numerals.items())"
   ]
  },
  {
   "cell_type": "code",
   "execution_count": null,
   "id": "77e8123d-7e47-448e-ba47-97249bf51426",
   "metadata": {},
   "outputs": [],
   "source": [
    "country_capitals1 = {'Belgium': 'Brussels', 'Haiti': 'Port-au-Prince'}\n",
    "country_capitals2 = {'Nepal': 'Kathmandu', 'Uruguay': 'Montevideo'}\n",
    "country_capitals3 = {'Haiti': 'Port-au-Prince', 'Belgium': 'Brussels'}\n",
    "country_capitals1 == country_capitals2"
   ]
  },
  {
   "cell_type": "code",
   "execution_count": null,
   "id": "ed571e81-6f1e-4c7b-98d0-58be71aab35d",
   "metadata": {},
   "outputs": [],
   "source": [
    "country_capitals1 == country_capitals3"
   ]
  },
  {
   "cell_type": "code",
   "execution_count": null,
   "id": "a2f07ef9-e4fa-440b-84ca-6dce565acd4a",
   "metadata": {},
   "outputs": [],
   "source": [
    "country_capitals1 != country_capitals2"
   ]
  },
  {
   "cell_type": "code",
   "execution_count": null,
   "id": "2a899770-7c34-407c-b9eb-04f5dc7c44ee",
   "metadata": {},
   "outputs": [],
   "source": [
    "# fig06_01.py\n",
    "\"\"\"Using a dictionary to represent an instructor's grade book\"\"\"\n",
    "grade_book = {\n",
    "    'Susan': [92,85,100],\n",
    "    'Eduardo': [83,95,79],\n",
    "    'Azizi': [91,89,82],\n",
    "    'Pantipa': [97,91,92]\n",
    "}\n",
    "all_grades_total = 0\n",
    "all_grades_count = 0\n",
    "\n",
    "for name, grades in grade_book.items():\n",
    "    total = sum(grades)\n",
    "    print(f'Average for {name} is {total/len(grades):.2f}')\n",
    "    all_grades_total += total\n",
    "    all_grades_count += len(grades)\n",
    "    \n",
    "print(f\"Class's average is: {all_grades_total / all_grades_count:.2f}\")"
   ]
  },
  {
   "cell_type": "code",
   "execution_count": 98,
   "id": "42eb6892-f4e1-4a85-825a-5c55707e4452",
   "metadata": {},
   "outputs": [
    {
     "name": "stdout",
     "output_type": "stream",
     "text": [
      "WORD        COUNT\n",
      "different   1\n",
      "is          2\n",
      "more        1\n",
      "sample      2\n",
      "several     1\n",
      "some        1\n",
      "text        2\n",
      "this        2\n",
      "with        2\n",
      "words       2\n",
      "\n",
      "Number of unique words: 10\n"
     ]
    }
   ],
   "source": [
    "# figure06_02.py\n",
    "\"\"\"Tokenizing a string and counting unique workds.\"\"\"\n",
    "\n",
    "text = ('this is sample text with several words '\n",
    "        'this is more sample text with some different words')\n",
    "word_counts = {}\n",
    "\n",
    "# count occurrences of each unique word\n",
    "for word in text.split():\n",
    "    if word in word_counts:\n",
    "        word_counts[word] += 1 #update existing key-value pair\n",
    "    else:\n",
    "        word_counts[word] = 1 # insert new key-value pair\n",
    "print(f'{\"WORD\":<12}COUNT')\n",
    "\n",
    "for word, count in sorted(word_counts.items()):\n",
    "    print(f'{word:<12}{count}')\n",
    "print('\\nNumber of unique words:', len(word_counts))"
   ]
  },
  {
   "cell_type": "code",
   "execution_count": 101,
   "id": "c3cace36-ba57-47be-b9fa-1ccd2ffadce0",
   "metadata": {},
   "outputs": [
    {
     "name": "stdout",
     "output_type": "stream",
     "text": [
      "different   1\n",
      "is          2\n",
      "more        1\n",
      "sample      2\n",
      "several     1\n",
      "some        1\n",
      "text        2\n",
      "this        2\n",
      "with        2\n",
      "words       2\n"
     ]
    }
   ],
   "source": [
    "from collections import Counter\n",
    "text = ('this is sample text with several words '\n",
    "        'this is more sample text with some different words')\n",
    "\n",
    "counter = Counter(text.split())\n",
    "\n",
    "for word, count in sorted(counter.items()):\n",
    "    print(f'{word:<12}{count}')"
   ]
  },
  {
   "cell_type": "code",
   "execution_count": 104,
   "id": "bf119006-4976-409a-9c67-613c2702a678",
   "metadata": {},
   "outputs": [
    {
     "name": "stdout",
     "output_type": "stream",
     "text": [
      "Number of unique keys: 10\n"
     ]
    }
   ],
   "source": [
    "print('Number of unique keys:', len(counter.keys()))"
   ]
  },
  {
   "cell_type": "code",
   "execution_count": 106,
   "id": "b97e17d8-c9ed-4e1b-8764-8015eb86e2b8",
   "metadata": {},
   "outputs": [
    {
     "name": "stdout",
     "output_type": "stream",
     "text": [
      "Ceaseless   1\n",
      "Or          1\n",
      "Perhaps     1\n",
      "a           1\n",
      "and         2\n",
      "are         1\n",
      "behold      1\n",
      "both        1\n",
      "circle      1\n",
      "does        1\n",
      "else        1\n",
      "everything  1\n",
      "flowsLo     1\n",
      "from        1\n",
      "goes        1\n",
      "is          1\n",
      "it          2\n",
      "life        1\n",
      "like        1\n",
      "moreEnigmatic1\n",
      "not         1\n",
      "of          1\n",
      "path        1\n",
      "paths       1\n",
      "point       1\n",
      "pointsIts   1\n",
      "round       1\n",
      "terminateRound1\n",
      "the         2\n",
      "theCentral  1\n"
     ]
    }
   ],
   "source": [
    "from collections import Counter\n",
    "text = ('Ceaseless are the points'\n",
    "        'Its path does not terminate'\n",
    "        'Round and round it goes from the'\n",
    "        'Central point everything else flows'\n",
    "        'Lo and behold is it a circle Or more'\n",
    "        'Enigmatic like the paths of life Perhaps both')\n",
    "\n",
    "counter = Counter(text.split())\n",
    "\n",
    "for word, count in sorted(counter.items()):\n",
    "    print(f'{word:<12}{count}')"
   ]
  },
  {
   "cell_type": "code",
   "execution_count": 109,
   "id": "07c41c6c-0ec8-4b4d-bce6-aa8d31d6b9ef",
   "metadata": {},
   "outputs": [
    {
     "name": "stdout",
     "output_type": "stream",
     "text": [
      "Number of unique keys: 30\n"
     ]
    }
   ],
   "source": [
    "print('Number of unique keys:', len(counter.keys()))"
   ]
  },
  {
   "cell_type": "code",
   "execution_count": null,
   "id": "d38b949f-c2b6-48e2-b239-de822a793c0d",
   "metadata": {},
   "outputs": [],
   "source": [
    "Angela Halsten"
   ]
  },
  {
   "cell_type": "code",
   "execution_count": 110,
   "id": "a2336857-183e-4c77-8de2-152fa7551b86",
   "metadata": {},
   "outputs": [
    {
     "data": {
      "text/plain": [
       "{'South Africa': 'za'}"
      ]
     },
     "execution_count": 110,
     "metadata": {},
     "output_type": "execute_result"
    }
   ],
   "source": [
    "country_codes = {}\n",
    "country_codes.update({'South Africa': 'za'})\n",
    "country_codes"
   ]
  },
  {
   "cell_type": "code",
   "execution_count": 111,
   "id": "4930c68b-b47e-4eb0-af7a-baf5b634ebb1",
   "metadata": {},
   "outputs": [
    {
     "data": {
      "text/plain": [
       "{'South Africa': 'za', 'Australia': 'ar'}"
      ]
     },
     "execution_count": 111,
     "metadata": {},
     "output_type": "execute_result"
    }
   ],
   "source": [
    "country_codes.update(Australia='ar')\n",
    "country_codes"
   ]
  },
  {
   "cell_type": "code",
   "execution_count": 112,
   "id": "671e956d-53b1-4818-ab2e-5826a1f30ba7",
   "metadata": {},
   "outputs": [
    {
     "data": {
      "text/plain": [
       "{'South Africa': 'za', 'Australia': 'au'}"
      ]
     },
     "execution_count": 112,
     "metadata": {},
     "output_type": "execute_result"
    }
   ],
   "source": [
    "country_codes.update(Australia='au')\n",
    "country_codes"
   ]
  },
  {
   "cell_type": "code",
   "execution_count": 113,
   "id": "aa33ec74-aeaf-4aeb-afe3-79ef772a0fff",
   "metadata": {},
   "outputs": [
    {
     "data": {
      "text/plain": [
       "{1: 'January', 2: 'February', 3: 'March'}"
      ]
     },
     "execution_count": 113,
     "metadata": {},
     "output_type": "execute_result"
    }
   ],
   "source": [
    "months = {'January': 1, 'February': 2, 'March': 3}\n",
    "months2 = {number: name for name, number in months.items()}\n",
    "months2"
   ]
  },
  {
   "cell_type": "code",
   "execution_count": 114,
   "id": "7336a684-a7b3-4fcc-bc28-bf7d9c26a016",
   "metadata": {},
   "outputs": [
    {
     "data": {
      "text/plain": [
       "{'Sue': 93.0, 'Bob': 90.0}"
      ]
     },
     "execution_count": 114,
     "metadata": {},
     "output_type": "execute_result"
    }
   ],
   "source": [
    "grades = {'Sue': [98,87,94], 'Bob': [84,95,91]}\n",
    "grades2 = {k: sum(v) / len(v) for k, v in grades.items()}\n",
    "\n",
    "grades2"
   ]
  },
  {
   "cell_type": "code",
   "execution_count": 115,
   "id": "7d575aa0-b521-4cea-b002-6f0c78232631",
   "metadata": {},
   "outputs": [
    {
     "data": {
      "text/plain": [
       "{'blue', 'green', 'orange', 'red', 'yellow'}"
      ]
     },
     "execution_count": 115,
     "metadata": {},
     "output_type": "execute_result"
    }
   ],
   "source": [
    "#6.3 Sets\n",
    "colors = {'red', 'orange', 'yellow', 'green', 'red', 'blue'}\n",
    "colors"
   ]
  },
  {
   "cell_type": "code",
   "execution_count": 116,
   "id": "e072c046-5771-4de4-b283-d74a638bc0e4",
   "metadata": {},
   "outputs": [
    {
     "data": {
      "text/plain": [
       "5"
      ]
     },
     "execution_count": 116,
     "metadata": {},
     "output_type": "execute_result"
    }
   ],
   "source": [
    "len(colors)"
   ]
  },
  {
   "cell_type": "code",
   "execution_count": 117,
   "id": "eba854e1-29f0-4a70-a031-bb8c588f986c",
   "metadata": {},
   "outputs": [
    {
     "data": {
      "text/plain": [
       "True"
      ]
     },
     "execution_count": 117,
     "metadata": {},
     "output_type": "execute_result"
    }
   ],
   "source": [
    "'red' in colors"
   ]
  },
  {
   "cell_type": "code",
   "execution_count": 118,
   "id": "f365e406-ec7a-4cc1-88a5-5442f8301be6",
   "metadata": {},
   "outputs": [
    {
     "data": {
      "text/plain": [
       "False"
      ]
     },
     "execution_count": 118,
     "metadata": {},
     "output_type": "execute_result"
    }
   ],
   "source": [
    "'purple' in colors"
   ]
  },
  {
   "cell_type": "code",
   "execution_count": 119,
   "id": "0998cde6-c12a-4388-9797-59abcc337c1f",
   "metadata": {},
   "outputs": [
    {
     "data": {
      "text/plain": [
       "True"
      ]
     },
     "execution_count": 119,
     "metadata": {},
     "output_type": "execute_result"
    }
   ],
   "source": [
    "'purple' not in colors"
   ]
  },
  {
   "cell_type": "code",
   "execution_count": 120,
   "id": "09f54780-2643-4121-aeb0-8c9100116d58",
   "metadata": {},
   "outputs": [
    {
     "name": "stdout",
     "output_type": "stream",
     "text": [
      "YELLOW  ORANGE  BLUE  RED  GREEN  "
     ]
    }
   ],
   "source": [
    "for color in colors:\n",
    "    print(color.upper(), end='  ')"
   ]
  },
  {
   "cell_type": "code",
   "execution_count": 121,
   "id": "f641e955-fb5d-41ac-a613-35caaa3e5a78",
   "metadata": {},
   "outputs": [
    {
     "data": {
      "text/plain": [
       "[0, 1, 2, 3, 4, 5, 6, 7, 8, 9, 0, 1, 2, 3, 4]"
      ]
     },
     "execution_count": 121,
     "metadata": {},
     "output_type": "execute_result"
    }
   ],
   "source": [
    "numbers = list(range(10)) + list(range(5))\n",
    "numbers"
   ]
  },
  {
   "cell_type": "code",
   "execution_count": 122,
   "id": "3d836ce8-0625-4e45-a5af-0250c94c7c5e",
   "metadata": {},
   "outputs": [
    {
     "data": {
      "text/plain": [
       "{0, 1, 2, 3, 4, 5, 6, 7, 8, 9}"
      ]
     },
     "execution_count": 122,
     "metadata": {},
     "output_type": "execute_result"
    }
   ],
   "source": [
    "set(numbers)"
   ]
  },
  {
   "cell_type": "code",
   "execution_count": 125,
   "id": "b358d594-8cfc-4623-b8c6-1ff9058aa2d4",
   "metadata": {},
   "outputs": [
    {
     "data": {
      "text/plain": [
       "set()"
      ]
     },
     "execution_count": 125,
     "metadata": {},
     "output_type": "execute_result"
    }
   ],
   "source": [
    "set()"
   ]
  },
  {
   "cell_type": "code",
   "execution_count": 126,
   "id": "65dcf0f6-b8f9-4a74-94d4-26badbab8655",
   "metadata": {},
   "outputs": [
    {
     "name": "stdout",
     "output_type": "stream",
     "text": [
      "be  is  not  or  question  that  the  to  "
     ]
    }
   ],
   "source": [
    "text = 'to be or not to be that is the question'\n",
    "unique_words = set(text.split())\n",
    "for word in sorted(unique_words):\n",
    "    print(word, end='  ')"
   ]
  },
  {
   "cell_type": "code",
   "execution_count": 127,
   "id": "23e1ec65-e810-4f3a-9499-e6fc1394790e",
   "metadata": {},
   "outputs": [
    {
     "data": {
      "text/plain": [
       "True"
      ]
     },
     "execution_count": 127,
     "metadata": {},
     "output_type": "execute_result"
    }
   ],
   "source": [
    "{1,3,5} == {3,5,1}"
   ]
  },
  {
   "cell_type": "code",
   "execution_count": 128,
   "id": "bcc87973-647f-4492-bdb6-e54ec7795e62",
   "metadata": {},
   "outputs": [
    {
     "data": {
      "text/plain": [
       "False"
      ]
     },
     "execution_count": 128,
     "metadata": {},
     "output_type": "execute_result"
    }
   ],
   "source": [
    "{1,3,5} != {3,5,1}"
   ]
  },
  {
   "cell_type": "code",
   "execution_count": 129,
   "id": "bda274a0-1b0d-4b89-9a13-42ddcaf99251",
   "metadata": {},
   "outputs": [
    {
     "data": {
      "text/plain": [
       "False"
      ]
     },
     "execution_count": 129,
     "metadata": {},
     "output_type": "execute_result"
    }
   ],
   "source": [
    "{1,3,5} < {3,5,1}"
   ]
  },
  {
   "cell_type": "code",
   "execution_count": 130,
   "id": "8b6a81ce-dd4e-4e39-ab87-c465617487dd",
   "metadata": {},
   "outputs": [
    {
     "data": {
      "text/plain": [
       "True"
      ]
     },
     "execution_count": 130,
     "metadata": {},
     "output_type": "execute_result"
    }
   ],
   "source": [
    "{1,3,5}<{7,3,5,1}"
   ]
  },
  {
   "cell_type": "code",
   "execution_count": 131,
   "id": "5f3e5f40-415f-4798-9cf1-96d8aade99fa",
   "metadata": {},
   "outputs": [
    {
     "data": {
      "text/plain": [
       "True"
      ]
     },
     "execution_count": 131,
     "metadata": {},
     "output_type": "execute_result"
    }
   ],
   "source": [
    "{1,3,5}<={3,5,1}"
   ]
  },
  {
   "cell_type": "code",
   "execution_count": 132,
   "id": "b895d668-4d4f-4261-bf3c-34e7face507c",
   "metadata": {},
   "outputs": [
    {
     "data": {
      "text/plain": [
       "True"
      ]
     },
     "execution_count": 132,
     "metadata": {},
     "output_type": "execute_result"
    }
   ],
   "source": [
    "{1,3} <={3,5,1}"
   ]
  },
  {
   "cell_type": "code",
   "execution_count": 133,
   "id": "b685944d-9103-4529-b0fa-6241740d34db",
   "metadata": {},
   "outputs": [
    {
     "data": {
      "text/plain": [
       "True"
      ]
     },
     "execution_count": 133,
     "metadata": {},
     "output_type": "execute_result"
    }
   ],
   "source": [
    "{1,3,5}.issubset({3,5,1})"
   ]
  },
  {
   "cell_type": "code",
   "execution_count": 134,
   "id": "88803490-d4b6-4076-adaa-6a8dc6222573",
   "metadata": {},
   "outputs": [
    {
     "data": {
      "text/plain": [
       "False"
      ]
     },
     "execution_count": 134,
     "metadata": {},
     "output_type": "execute_result"
    }
   ],
   "source": [
    "{1,2}.issubset({3,5,1})"
   ]
  },
  {
   "cell_type": "code",
   "execution_count": 135,
   "id": "f807ea0a-216d-47d3-afa3-869a7eecd5e5",
   "metadata": {},
   "outputs": [
    {
     "data": {
      "text/plain": [
       "True"
      ]
     },
     "execution_count": 135,
     "metadata": {},
     "output_type": "execute_result"
    }
   ],
   "source": [
    "{1,3,5}>={3,5,1}"
   ]
  },
  {
   "cell_type": "code",
   "execution_count": 136,
   "id": "7718c657-6d6a-4e55-9950-8bd171515225",
   "metadata": {},
   "outputs": [
    {
     "data": {
      "text/plain": [
       "True"
      ]
     },
     "execution_count": 136,
     "metadata": {},
     "output_type": "execute_result"
    }
   ],
   "source": [
    "{1,3,5,7}>={3,1}"
   ]
  },
  {
   "cell_type": "code",
   "execution_count": 137,
   "id": "2aefc781-cb23-4c48-a1ad-60373e394814",
   "metadata": {},
   "outputs": [
    {
     "data": {
      "text/plain": [
       "False"
      ]
     },
     "execution_count": 137,
     "metadata": {},
     "output_type": "execute_result"
    }
   ],
   "source": [
    "{1,3}>={3,1,7}"
   ]
  },
  {
   "cell_type": "code",
   "execution_count": 138,
   "id": "f9a912b6-294b-490a-950c-863bd04f058c",
   "metadata": {},
   "outputs": [
    {
     "data": {
      "text/plain": [
       "True"
      ]
     },
     "execution_count": 138,
     "metadata": {},
     "output_type": "execute_result"
    }
   ],
   "source": [
    "{1,3,5}.issuperset({3,5,1})"
   ]
  },
  {
   "cell_type": "code",
   "execution_count": 139,
   "id": "d1e1a5fb-dce2-4094-844c-37f7bbe13931",
   "metadata": {},
   "outputs": [
    {
     "data": {
      "text/plain": [
       "False"
      ]
     },
     "execution_count": 139,
     "metadata": {},
     "output_type": "execute_result"
    }
   ],
   "source": [
    "{1,3,5}.issuperset({3,2})"
   ]
  },
  {
   "cell_type": "code",
   "execution_count": 140,
   "id": "c2abff3a-01df-4565-820f-587a8b68ef18",
   "metadata": {},
   "outputs": [
    {
     "data": {
      "text/plain": [
       "True"
      ]
     },
     "execution_count": 140,
     "metadata": {},
     "output_type": "execute_result"
    }
   ],
   "source": [
    "set('abc def ghi jkl mno').issuperset('hi mom')"
   ]
  },
  {
   "cell_type": "code",
   "execution_count": 141,
   "id": "40840fb9-7229-44fa-bbd7-07c65df8aa85",
   "metadata": {},
   "outputs": [
    {
     "data": {
      "text/plain": [
       "{1, 2, 3, 4, 5}"
      ]
     },
     "execution_count": 141,
     "metadata": {},
     "output_type": "execute_result"
    }
   ],
   "source": [
    "{1,3,5} | {2,3,4}"
   ]
  },
  {
   "cell_type": "code",
   "execution_count": 142,
   "id": "936e68a2-56eb-4f97-95e5-17cbb27595af",
   "metadata": {},
   "outputs": [
    {
     "data": {
      "text/plain": [
       "{1, 3, 5, 20, 40}"
      ]
     },
     "execution_count": 142,
     "metadata": {},
     "output_type": "execute_result"
    }
   ],
   "source": [
    "{1,3,5}.union([20,20,3,40,40])"
   ]
  },
  {
   "cell_type": "code",
   "execution_count": 143,
   "id": "f627203d-390e-450c-aa20-4a3cec2129f5",
   "metadata": {},
   "outputs": [
    {
     "data": {
      "text/plain": [
       "{3}"
      ]
     },
     "execution_count": 143,
     "metadata": {},
     "output_type": "execute_result"
    }
   ],
   "source": [
    "{1,3,5} & {2,3,4}"
   ]
  },
  {
   "cell_type": "code",
   "execution_count": 144,
   "id": "3f700fda-fdd4-4f80-bca4-9e5e29577235",
   "metadata": {},
   "outputs": [
    {
     "data": {
      "text/plain": [
       "{1, 3}"
      ]
     },
     "execution_count": 144,
     "metadata": {},
     "output_type": "execute_result"
    }
   ],
   "source": [
    "{1,3,5}.intersection([1,2,2,3,3,4,4])"
   ]
  },
  {
   "cell_type": "code",
   "execution_count": 145,
   "id": "31de91dd-24cc-49a2-a6ae-5bc13cc478b3",
   "metadata": {},
   "outputs": [
    {
     "data": {
      "text/plain": [
       "{1, 5}"
      ]
     },
     "execution_count": 145,
     "metadata": {},
     "output_type": "execute_result"
    }
   ],
   "source": [
    "{1,3,5}-{2,3,4}"
   ]
  },
  {
   "cell_type": "code",
   "execution_count": 147,
   "id": "48bc825d-9c92-4cc8-8ac9-e539c3511357",
   "metadata": {},
   "outputs": [
    {
     "data": {
      "text/plain": [
       "{1, 5, 7}"
      ]
     },
     "execution_count": 147,
     "metadata": {},
     "output_type": "execute_result"
    }
   ],
   "source": [
    "{1,3,5,7}.difference([2,2,3,3,4,4])"
   ]
  },
  {
   "cell_type": "code",
   "execution_count": 148,
   "id": "c4c08840-adf6-46d5-8ad9-b433bd14f5af",
   "metadata": {},
   "outputs": [
    {
     "data": {
      "text/plain": [
       "{1, 2, 4, 5}"
      ]
     },
     "execution_count": 148,
     "metadata": {},
     "output_type": "execute_result"
    }
   ],
   "source": [
    "{1,3,5} ^ {2,3,4}"
   ]
  },
  {
   "cell_type": "code",
   "execution_count": 149,
   "id": "1baa396d-4dca-4d89-b43c-bfdf4cc13ecb",
   "metadata": {},
   "outputs": [
    {
     "data": {
      "text/plain": [
       "{1, 2, 4, 5, 7}"
      ]
     },
     "execution_count": 149,
     "metadata": {},
     "output_type": "execute_result"
    }
   ],
   "source": [
    "{1,3,5,7}.symmetric_difference([2,2,3,3,4,4])"
   ]
  },
  {
   "cell_type": "code",
   "execution_count": 151,
   "id": "76fc3ecf-b268-4358-83d9-fa4585caa977",
   "metadata": {},
   "outputs": [
    {
     "data": {
      "text/plain": [
       "True"
      ]
     },
     "execution_count": 151,
     "metadata": {},
     "output_type": "execute_result"
    }
   ],
   "source": [
    "{1,3,5}.isdisjoint([2,4,6])"
   ]
  },
  {
   "cell_type": "code",
   "execution_count": 152,
   "id": "223fd676-34b6-4d37-8f8e-dbe341a4dfbb",
   "metadata": {},
   "outputs": [
    {
     "data": {
      "text/plain": [
       "False"
      ]
     },
     "execution_count": 152,
     "metadata": {},
     "output_type": "execute_result"
    }
   ],
   "source": [
    "{1,3,5}.isdisjoint({4,6,1})"
   ]
  },
  {
   "cell_type": "code",
   "execution_count": 153,
   "id": "a6c76fbf-f802-4b6d-8a2e-edf77ac35078",
   "metadata": {},
   "outputs": [
    {
     "data": {
      "text/plain": [
       "{30}"
      ]
     },
     "execution_count": 153,
     "metadata": {},
     "output_type": "execute_result"
    }
   ],
   "source": [
    "{10,20,30}-{5,10,15,20}"
   ]
  },
  {
   "cell_type": "code",
   "execution_count": 154,
   "id": "a3c70284-b9a4-412f-bf10-d3728152c588",
   "metadata": {},
   "outputs": [
    {
     "data": {
      "text/plain": [
       "{5, 15, 30}"
      ]
     },
     "execution_count": 154,
     "metadata": {},
     "output_type": "execute_result"
    }
   ],
   "source": [
    "{10,20,30}^{5,10,15,20}"
   ]
  },
  {
   "cell_type": "code",
   "execution_count": 155,
   "id": "93441855-7b51-4807-8a3e-f3c6f5d7cb32",
   "metadata": {},
   "outputs": [
    {
     "data": {
      "text/plain": [
       "{5, 10, 15, 20, 30}"
      ]
     },
     "execution_count": 155,
     "metadata": {},
     "output_type": "execute_result"
    }
   ],
   "source": [
    "{10,20,30} | {5,10,15,20}"
   ]
  },
  {
   "cell_type": "code",
   "execution_count": 156,
   "id": "59d7ef0f-0c44-4943-92ed-55334beceed2",
   "metadata": {},
   "outputs": [
    {
     "data": {
      "text/plain": [
       "{10, 20}"
      ]
     },
     "execution_count": 156,
     "metadata": {},
     "output_type": "execute_result"
    }
   ],
   "source": [
    "{10,20,30} & {5,10,15,20}"
   ]
  },
  {
   "cell_type": "code",
   "execution_count": 157,
   "id": "b5b8b693-6686-491b-a141-5039098d4281",
   "metadata": {},
   "outputs": [
    {
     "data": {
      "text/plain": [
       "{1, 2, 3, 4, 5}"
      ]
     },
     "execution_count": 157,
     "metadata": {},
     "output_type": "execute_result"
    }
   ],
   "source": [
    "numbers = {1,3,5}\n",
    "numbers |= {2,3,4}\n",
    "numbers"
   ]
  },
  {
   "cell_type": "code",
   "execution_count": 158,
   "id": "aead0079-7cdc-45cb-8255-19a756082202",
   "metadata": {},
   "outputs": [
    {
     "data": {
      "text/plain": [
       "{0, 1, 2, 3, 4, 5, 6, 7, 8, 9}"
      ]
     },
     "execution_count": 158,
     "metadata": {},
     "output_type": "execute_result"
    }
   ],
   "source": [
    "numbers.update(range(10))\n",
    "numbers"
   ]
  },
  {
   "cell_type": "code",
   "execution_count": 159,
   "id": "aa977abb-8912-4225-8c26-3170df5cb47c",
   "metadata": {},
   "outputs": [
    {
     "data": {
      "text/plain": [
       "{0, 1, 2, 3, 4, 5, 6, 7, 8, 9, 17}"
      ]
     },
     "execution_count": 159,
     "metadata": {},
     "output_type": "execute_result"
    }
   ],
   "source": [
    "numbers.add(17)\n",
    "numbers.add(3)\n",
    "numbers"
   ]
  },
  {
   "cell_type": "code",
   "execution_count": 160,
   "id": "fbb269a0-db42-4c7f-9ac7-e71c5b6bc336",
   "metadata": {},
   "outputs": [
    {
     "data": {
      "text/plain": [
       "{0, 1, 2, 4, 5, 6, 7, 8, 9, 17}"
      ]
     },
     "execution_count": 160,
     "metadata": {},
     "output_type": "execute_result"
    }
   ],
   "source": [
    "numbers.remove(3)\n",
    "numbers"
   ]
  },
  {
   "cell_type": "code",
   "execution_count": 161,
   "id": "1ea3e23c-a428-4944-91e6-1c4e7bdf39f6",
   "metadata": {},
   "outputs": [
    {
     "data": {
      "text/plain": [
       "0"
      ]
     },
     "execution_count": 161,
     "metadata": {},
     "output_type": "execute_result"
    }
   ],
   "source": [
    "numbers.pop()"
   ]
  },
  {
   "cell_type": "code",
   "execution_count": 162,
   "id": "b84cf68e-1214-40f2-8f14-37fe25460005",
   "metadata": {},
   "outputs": [
    {
     "data": {
      "text/plain": [
       "{1, 2, 4, 5, 6, 7, 8, 9, 17}"
      ]
     },
     "execution_count": 162,
     "metadata": {},
     "output_type": "execute_result"
    }
   ],
   "source": [
    "numbers"
   ]
  },
  {
   "cell_type": "code",
   "execution_count": 163,
   "id": "23575957-f7ce-483e-8f83-026bcf4fab8d",
   "metadata": {},
   "outputs": [
    {
     "data": {
      "text/plain": [
       "set()"
      ]
     },
     "execution_count": 163,
     "metadata": {},
     "output_type": "execute_result"
    }
   ],
   "source": [
    "numbers.clear()\n",
    "numbers"
   ]
  },
  {
   "cell_type": "code",
   "execution_count": 164,
   "id": "6bac7805-1318-4052-b405-541e7ae24683",
   "metadata": {},
   "outputs": [
    {
     "data": {
      "text/plain": [
       "{2, 4, 6, 8, 10}"
      ]
     },
     "execution_count": 164,
     "metadata": {},
     "output_type": "execute_result"
    }
   ],
   "source": [
    "numbers = [1,2,2,3,4,5,6,6,7,8,9,10,10]\n",
    "evens = {item for item in numbers if item % 2 == 0}\n",
    "evens"
   ]
  },
  {
   "cell_type": "code",
   "execution_count": null,
   "id": "c980d88b-60a2-4699-9873-a324eb99e103",
   "metadata": {},
   "outputs": [],
   "source": [
    "Angela Halsten"
   ]
  }
 ],
 "metadata": {
  "kernelspec": {
   "display_name": "Python 3 (ipykernel)",
   "language": "python",
   "name": "python3"
  },
  "language_info": {
   "codemirror_mode": {
    "name": "ipython",
    "version": 3
   },
   "file_extension": ".py",
   "mimetype": "text/x-python",
   "name": "python",
   "nbconvert_exporter": "python",
   "pygments_lexer": "ipython3",
   "version": "3.9.12"
  }
 },
 "nbformat": 4,
 "nbformat_minor": 5
}
